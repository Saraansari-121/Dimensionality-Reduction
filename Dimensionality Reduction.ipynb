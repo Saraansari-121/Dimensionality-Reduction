{
 "cells": [
  {
   "cell_type": "markdown",
   "metadata": {
    "id": "VQ3syspj_rKn"
   },
   "source": [
    "# Dimensionality Reduction"
   ]
  },
  {
   "cell_type": "markdown",
   "metadata": {
    "id": "xJGl9TcT_skx"
   },
   "source": [
    "## Importing the libraries"
   ]
  },
  {
   "cell_type": "code",
   "execution_count": null,
   "metadata": {
    "id": "BNEgrGwd_29D"
   },
   "outputs": [],
   "source": [
    "import numpy as np\n",
    "import matplotlib.pyplot as plt\n",
    "import pandas as pd"
   ]
  },
  {
   "cell_type": "markdown",
   "metadata": {
    "id": "-YbeeZl2WNDE"
   },
   "source": [
    "## K-Means Clustering"
   ]
  },
  {
   "cell_type": "code",
   "execution_count": null,
   "metadata": {
    "colab": {
     "base_uri": "https://localhost:8080/",
     "height": 347
    },
    "id": "YsMKF24eWP2s",
    "outputId": "00ecb3d3-b0a6-4dbf-b3ba-e4cf503121ef"
   },
   "outputs": [
    {
     "data": {
      "image/png": "[encoded data removed]",
      "text/plain": [
       "<Figure size 432x288 with 1 Axes>"
      ]
     },
     "metadata": {
      "needs_background": "light"
     },
     "output_type": "display_data"
    },
    {
     "name": "stdout",
     "output_type": "stream",
     "text": [
      "Looking in indexes: https://pypi.org/simple, https://us-python.pkg.dev/colab-wheels/public/simple/\n",
      "Requirement already satisfied: autoelbow in /usr/local/lib/python3.8/dist-packages (0.0.3)\n",
      "the optimal cluster number is 3 \n"
     ]
    }
   ],
   "source": [
    "#Importing the dataset\n",
    "dataset = pd.read_csv('NewDelhi_Air_quality.csv')\n",
    "X = dataset.iloc[ : , [1,2,4,6,7,8] ]\n",
    "\n",
    "#Using the elbow method to find the optimal number of clusters\n",
    "from sklearn.cluster import KMeans\n",
    "wcss = []\n",
    "for i in range(1,11) :\n",
    "    kmeans = KMeans(n_clusters = i , init = 'k-means++' , random_state= 42)\n",
    "    kmeans.fit(X)\n",
    "    wcss.append(kmeans.inertia_)\n",
    "plt.plot(range(1,11), wcss)\n",
    "plt.title('The Elbow Method')\n",
    "plt.xlabel('Number of clusters')\n",
    "plt.ylabel('WCSS')\n",
    "plt.show()\n",
    "\n",
    "!pip install autoelbow\n",
    "from autoelbow_rupakbob import autoelbow\n",
    "n =autoelbow.auto_elbow_search(X)\n",
    "print(f\"the optimal cluster number is {n} \")\n",
    "\n",
    "#Training the K-Means model on the dataset\n",
    "kmeans = KMeans(n_clusters = 3 , init = 'k-means++' , random_state= 42)\n",
    "y_kmeans = kmeans.fit_predict(X)\n",
    "\n",
    "#Make new data.csv with classification coulmn\n",
    "y_ar = y_kmeans.reshape(len(y_kmeans),1)\n",
    "data = np.concatenate((X, y_ar), axis=1)\n",
    "\n",
    "from numpy import savetxt\n",
    "savetxt('data.csv', data, delimiter=',')"
   ]
  },
  {
   "cell_type": "code",
   "execution_count": null,
   "metadata": {
    "colab": {
     "base_uri": "https://localhost:8080/"
    },
    "id": "5jJpzmUoGpEP",
    "outputId": "51f18ec7-1279-4c5f-e44b-7e4f63ad8c3a"
   },
   "outputs": [
    {
     "data": {
      "text/plain": [
       "array([0, 0, 0, 0, 2, 2, 2, 2, 0, 0, 0, 0, 2, 2, 2, 2, 2, 0, 0, 0, 0, 0,\n",
       "       0, 0, 0, 0, 2, 2, 2, 2, 2, 2, 2, 2, 2, 2, 2, 0, 0, 0, 0, 1, 1, 1,\n",
       "       0, 0, 0, 0, 0, 0, 0, 0, 0, 0, 0, 0, 0, 0, 1, 1, 1, 1, 1, 1, 1, 1,\n",
       "       1, 1, 1, 0, 0, 0], dtype=int32)"
      ]
     },
     "execution_count": 3,
     "metadata": {},
     "output_type": "execute_result"
    }
   ],
   "source": [
    "y_kmeans"
   ]
  },
  {
   "cell_type": "code",
   "execution_count": null,
   "metadata": {
    "colab": {
     "base_uri": "https://localhost:8080/"
    },
    "id": "09eEivebGrsX",
    "outputId": "e5e6a698-d19e-49c3-e088-b0c56d4b8028"
   },
   "outputs": [
    {
     "data": {
      "text/plain": [
       "array([[0],\n",
       "       [0],\n",
       "       [0],\n",
       "       [0],\n",
       "       [2],\n",
       "       [2],\n",
       "       [2],\n",
       "       [2],\n",
       "       [0],\n",
       "       [0],\n",
       "       [0],\n",
       "       [0],\n",
       "       [2],\n",
       "       [2],\n",
       "       [2],\n",
       "       [2],\n",
       "       [2],\n",
       "       [0],\n",
       "       [0],\n",
       "       [0],\n",
       "       [0],\n",
       "       [0],\n",
       "       [0],\n",
       "       [0],\n",
       "       [0],\n",
       "       [0],\n",
       "       [2],\n",
       "       [2],\n",
       "       [2],\n",
       "       [2],\n",
       "       [2],\n",
       "       [2],\n",
       "       [2],\n",
       "       [2],\n",
       "       [2],\n",
       "       [2],\n",
       "       [2],\n",
       "       [0],\n",
       "       [0],\n",
       "       [0],\n",
       "       [0],\n",
       "       [1],\n",
       "       [1],\n",
       "       [1],\n",
       "       [0],\n",
       "       [0],\n",
       "       [0],\n",
       "       [0],\n",
       "       [0],\n",
       "       [0],\n",
       "       [0],\n",
       "       [0],\n",
       "       [0],\n",
       "       [0],\n",
       "       [0],\n",
       "       [0],\n",
       "       [0],\n",
       "       [0],\n",
       "       [1],\n",
       "       [1],\n",
       "       [1],\n",
       "       [1],\n",
       "       [1],\n",
       "       [1],\n",
       "       [1],\n",
       "       [1],\n",
       "       [1],\n",
       "       [1],\n",
       "       [1],\n",
       "       [0],\n",
       "       [0],\n",
       "       [0]], dtype=int32)"
      ]
     },
     "execution_count": 4,
     "metadata": {},
     "output_type": "execute_result"
    }
   ],
   "source": [
    "y_ar"
   ]
  },
  {
   "cell_type": "code",
   "execution_count": null,
   "metadata": {
    "colab": {
     "base_uri": "https://localhost:8080/",
     "height": 424
    },
    "id": "D4ip88wqGu5H",
    "outputId": "e411c623-8887-45c9-8093-54f8de6b0e29"
   },
   "outputs": [
    {
     "data": {
      "text/html": [
       "\n",
       "  <div id=\"df-ec21671c-8392-4c10-902c-dc6f7651cd3c\">\n",
       "    <div class=\"colab-df-container\">\n",
       "      <div>\n",
       "<style scoped>\n",
       "    .dataframe tbody tr th:only-of-type {\n",
       "        vertical-align: middle;\n",
       "    }\n",
       "\n",
       "    .dataframe tbody tr th {\n",
       "        vertical-align: top;\n",
       "    }\n",
       "\n",
       "    .dataframe thead th {\n",
       "        text-align: right;\n",
       "    }\n",
       "</style>\n",
       "<table border=\"1\" class=\"dataframe\">\n",
       "  <thead>\n",
       "    <tr style=\"text-align: right;\">\n",
       "      <th></th>\n",
       "      <th>AQI</th>\n",
       "      <th>CO</th>\n",
       "      <th>no2</th>\n",
       "      <th>pm10</th>\n",
       "      <th>pm25</th>\n",
       "      <th>so2</th>\n",
       "    </tr>\n",
       "  </thead>\n",
       "  <tbody>\n",
       "    <tr>\n",
       "      <th>0</th>\n",
       "      <td>30.2</td>\n",
       "      <td>198.60268</td>\n",
       "      <td>0.046857</td>\n",
       "      <td>10.486722</td>\n",
       "      <td>5.637410</td>\n",
       "      <td>0.387430</td>\n",
       "    </tr>\n",
       "    <tr>\n",
       "      <th>1</th>\n",
       "      <td>28.2</td>\n",
       "      <td>197.60132</td>\n",
       "      <td>0.046456</td>\n",
       "      <td>10.719325</td>\n",
       "      <td>4.618169</td>\n",
       "      <td>0.409782</td>\n",
       "    </tr>\n",
       "    <tr>\n",
       "      <th>2</th>\n",
       "      <td>26.6</td>\n",
       "      <td>198.60268</td>\n",
       "      <td>0.046857</td>\n",
       "      <td>11.155578</td>\n",
       "      <td>3.520902</td>\n",
       "      <td>0.402331</td>\n",
       "    </tr>\n",
       "    <tr>\n",
       "      <th>3</th>\n",
       "      <td>25.0</td>\n",
       "      <td>201.94054</td>\n",
       "      <td>0.048196</td>\n",
       "      <td>11.116206</td>\n",
       "      <td>2.225919</td>\n",
       "      <td>0.376254</td>\n",
       "    </tr>\n",
       "    <tr>\n",
       "      <th>4</th>\n",
       "      <td>26.0</td>\n",
       "      <td>205.27840</td>\n",
       "      <td>0.048865</td>\n",
       "      <td>10.405250</td>\n",
       "      <td>1.979471</td>\n",
       "      <td>0.339001</td>\n",
       "    </tr>\n",
       "    <tr>\n",
       "      <th>...</th>\n",
       "      <td>...</td>\n",
       "      <td>...</td>\n",
       "      <td>...</td>\n",
       "      <td>...</td>\n",
       "      <td>...</td>\n",
       "      <td>...</td>\n",
       "    </tr>\n",
       "    <tr>\n",
       "      <th>67</th>\n",
       "      <td>22.0</td>\n",
       "      <td>193.59589</td>\n",
       "      <td>0.035478</td>\n",
       "      <td>10.423121</td>\n",
       "      <td>2.720472</td>\n",
       "      <td>0.391155</td>\n",
       "    </tr>\n",
       "    <tr>\n",
       "      <th>68</th>\n",
       "      <td>24.0</td>\n",
       "      <td>195.26482</td>\n",
       "      <td>0.039159</td>\n",
       "      <td>11.240661</td>\n",
       "      <td>2.713109</td>\n",
       "      <td>0.383705</td>\n",
       "    </tr>\n",
       "    <tr>\n",
       "      <th>69</th>\n",
       "      <td>26.0</td>\n",
       "      <td>196.93375</td>\n",
       "      <td>0.044180</td>\n",
       "      <td>12.098125</td>\n",
       "      <td>2.743044</td>\n",
       "      <td>0.376254</td>\n",
       "    </tr>\n",
       "    <tr>\n",
       "      <th>70</th>\n",
       "      <td>27.0</td>\n",
       "      <td>198.60268</td>\n",
       "      <td>0.046857</td>\n",
       "      <td>12.845977</td>\n",
       "      <td>2.780022</td>\n",
       "      <td>0.372529</td>\n",
       "    </tr>\n",
       "    <tr>\n",
       "      <th>71</th>\n",
       "      <td>28.0</td>\n",
       "      <td>198.60268</td>\n",
       "      <td>0.047527</td>\n",
       "      <td>12.583639</td>\n",
       "      <td>2.745875</td>\n",
       "      <td>0.368804</td>\n",
       "    </tr>\n",
       "  </tbody>\n",
       "</table>\n",
       "<p>72 rows × 6 columns</p>\n",
       "</div>\n",
       "      <button class=\"colab-df-convert\" onclick=\"convertToInteractive('df-ec21671c-8392-4c10-902c-dc6f7651cd3c')\"\n",
       "              title=\"Convert this dataframe to an interactive table.\"\n",
       "              style=\"display:none;\">\n",
       "        \n",
       "  <svg xmlns=\"http://www.w3.org/2000/svg\" height=\"24px\"viewBox=\"0 0 24 24\"\n",
       "       width=\"24px\">\n",
       "    <path d=\"M0 0h24v24H0V0z\" fill=\"none\"/>\n",
       "    <path d=\"M18.56 5.44l.94 2.06.94-2.06 2.06-.94-2.06-.94-.94-2.06-.94 2.06-2.06.94zm-11 1L8.5 8.5l.94-2.06 2.06-.94-2.06-.94L8.5 2.5l-.94 2.06-2.06.94zm10 10l.94 2.06.94-2.06 2.06-.94-2.06-.94-.94-2.06-.94 2.06-2.06.94z\"/><path d=\"M17.41 7.96l-1.37-1.37c-.4-.4-.92-.59-1.43-.59-.52 0-1.04.2-1.43.59L10.3 9.45l-7.72 7.72c-.78.78-.78 2.05 0 2.83L4 21.41c.39.39.9.59 1.41.59.51 0 1.02-.2 1.41-.59l7.78-7.78 2.81-2.81c.8-.78.8-2.07 0-2.86zM5.41 20L4 18.59l7.72-7.72 1.47 1.35L5.41 20z\"/>\n",
       "  </svg>\n",
       "      </button>\n",
       "      \n",
       "  <style>\n",
       "    .colab-df-container {\n",
       "      display:flex;\n",
       "      flex-wrap:wrap;\n",
       "      gap: 12px;\n",
       "    }\n",
       "\n",
       "    .colab-df-convert {\n",
       "      background-color: #E8F0FE;\n",
       "      border: none;\n",
       "      border-radius: 50%;\n",
       "      cursor: pointer;\n",
       "      display: none;\n",
       "      fill: #1967D2;\n",
       "      height: 32px;\n",
       "      padding: 0 0 0 0;\n",
       "      width: 32px;\n",
       "    }\n",
       "\n",
       "    .colab-df-convert:hover {\n",
       "      background-color: #E2EBFA;\n",
       "      box-shadow: 0px 1px 2px rgba(60, 64, 67, 0.3), 0px 1px 3px 1px rgba(60, 64, 67, 0.15);\n",
       "      fill: #174EA6;\n",
       "    }\n",
       "\n",
       "    [theme=dark] .colab-df-convert {\n",
       "      background-color: #3B4455;\n",
       "      fill: #D2E3FC;\n",
       "    }\n",
       "\n",
       "    [theme=dark] .colab-df-convert:hover {\n",
       "      background-color: #434B5C;\n",
       "      box-shadow: 0px 1px 3px 1px rgba(0, 0, 0, 0.15);\n",
       "      filter: drop-shadow(0px 1px 2px rgba(0, 0, 0, 0.3));\n",
       "      fill: #FFFFFF;\n",
       "    }\n",
       "  </style>\n",
       "\n",
       "      <script>\n",
       "        const buttonEl =\n",
       "          document.querySelector('#df-ec21671c-8392-4c10-902c-dc6f7651cd3c button.colab-df-convert');\n",
       "        buttonEl.style.display =\n",
       "          google.colab.kernel.accessAllowed ? 'block' : 'none';\n",
       "\n",
       "        async function convertToInteractive(key) {\n",
       "          const element = document.querySelector('#df-ec21671c-8392-4c10-902c-dc6f7651cd3c');\n",
       "          const dataTable =\n",
       "            await google.colab.kernel.invokeFunction('convertToInteractive',\n",
       "                                                     [key], {});\n",
       "          if (!dataTable) return;\n",
       "\n",
       "          const docLinkHtml = 'Like what you see? Visit the ' +\n",
       "            '<a target=\"_blank\" href=https://colab.research.google.com/notebooks/data_table.ipynb>data table notebook</a>'\n",
       "            + ' to learn more about interactive tables.';\n",
       "          element.innerHTML = '';\n",
       "          dataTable['output_type'] = 'display_data';\n",
       "          await google.colab.output.renderOutput(dataTable, element);\n",
       "          const docLink = document.createElement('div');\n",
       "          docLink.innerHTML = docLinkHtml;\n",
       "          element.appendChild(docLink);\n",
       "        }\n",
       "      </script>\n",
       "    </div>\n",
       "  </div>\n",
       "  "
      ],
      "text/plain": [
       "     AQI         CO       no2       pm10      pm25       so2\n",
       "0   30.2  198.60268  0.046857  10.486722  5.637410  0.387430\n",
       "1   28.2  197.60132  0.046456  10.719325  4.618169  0.409782\n",
       "2   26.6  198.60268  0.046857  11.155578  3.520902  0.402331\n",
       "3   25.0  201.94054  0.048196  11.116206  2.225919  0.376254\n",
       "4   26.0  205.27840  0.048865  10.405250  1.979471  0.339001\n",
       "..   ...        ...       ...        ...       ...       ...\n",
       "67  22.0  193.59589  0.035478  10.423121  2.720472  0.391155\n",
       "68  24.0  195.26482  0.039159  11.240661  2.713109  0.383705\n",
       "69  26.0  196.93375  0.044180  12.098125  2.743044  0.376254\n",
       "70  27.0  198.60268  0.046857  12.845977  2.780022  0.372529\n",
       "71  28.0  198.60268  0.047527  12.583639  2.745875  0.368804\n",
       "\n",
       "[72 rows x 6 columns]"
      ]
     },
     "execution_count": 5,
     "metadata": {},
     "output_type": "execute_result"
    }
   ],
   "source": [
    "X"
   ]
  },
  {
   "cell_type": "code",
   "execution_count": null,
   "metadata": {
    "colab": {
     "base_uri": "https://localhost:8080/"
    },
    "id": "YFdqLgvxG6A4",
    "outputId": "07b6f295-43ed-4b69-b8a2-81d54a88bcec"
   },
   "outputs": [
    {
     "data": {
      "text/plain": [
       "array([[3.02000000e+01, 1.98602680e+02, 4.68571670e-02, 1.04867220e+01,\n",
       "        5.63740970e+00, 3.87430200e-01, 0.00000000e+00],\n",
       "       [2.82000000e+01, 1.97601320e+02, 4.64555360e-02, 1.07193250e+01,\n",
       "        4.61816900e+00, 4.09781930e-01, 0.00000000e+00],\n",
       "       [2.66000000e+01, 1.98602680e+02, 4.68571670e-02, 1.11555780e+01,\n",
       "        3.52090200e+00, 4.02331350e-01, 0.00000000e+00],\n",
       "       [2.50000000e+01, 2.01940540e+02, 4.81959430e-02, 1.11162060e+01,\n",
       "        2.22591880e+00, 3.76254320e-01, 0.00000000e+00],\n",
       "       [2.60000000e+01, 2.05278400e+02, 4.88653330e-02, 1.04052500e+01,\n",
       "        1.97947110e+00, 3.39001420e-01, 2.00000000e+00],\n",
       "       [2.60000000e+01, 2.08616260e+02, 5.02041060e-02, 9.40251800e+00,\n",
       "        1.79267690e+00, 3.12924390e-01, 2.00000000e+00],\n",
       "       [2.60000000e+01, 2.08616260e+02, 5.02041060e-02, 8.48282200e+00,\n",
       "        1.75223730e+00, 3.12924390e-01, 2.00000000e+00],\n",
       "       [2.40000000e+01, 2.05278400e+02, 5.02041060e-02, 7.58666750e+00,\n",
       "        1.85845850e+00, 3.42726700e-01, 2.00000000e+00],\n",
       "       [2.30000000e+01, 2.00271600e+02, 4.68571670e-02, 7.63658670e+00,\n",
       "        2.20807580e+00, 3.94880770e-01, 0.00000000e+00],\n",
       "       [2.40000000e+01, 1.96933750e+02, 4.41796150e-02, 8.48764800e+00,\n",
       "        2.47668080e+00, 4.28408380e-01, 0.00000000e+00],\n",
       "       [2.50000000e+01, 1.98602680e+02, 4.28408400e-02, 9.35737100e+00,\n",
       "        2.58572900e+00, 4.28408380e-01, 0.00000000e+00],\n",
       "       [2.60000000e+01, 2.00271600e+02, 4.04979800e-02, 1.03387280e+01,\n",
       "        2.39008100e+00, 3.98606060e-01, 0.00000000e+00],\n",
       "       [2.70000000e+01, 2.03609470e+02, 4.01632860e-02, 1.05233135e+01,\n",
       "        2.08602240e+00, 3.50177300e-01, 2.00000000e+00],\n",
       "       [2.90000000e+01, 2.05278400e+02, 3.88245100e-02, 1.06359700e+01,\n",
       "        1.93704680e+00, 3.16649680e-01, 2.00000000e+00],\n",
       "       [2.90000000e+01, 2.05278400e+02, 3.88245100e-02, 9.96480300e+00,\n",
       "        1.83531070e+00, 2.98023220e-01, 2.00000000e+00],\n",
       "       [2.90000000e+01, 2.05278400e+02, 3.88245100e-02, 9.21441100e+00,\n",
       "        1.72518930e+00, 2.86847350e-01, 2.00000000e+00],\n",
       "       [2.90000000e+01, 2.03609470e+02, 3.74857340e-02, 8.77211700e+00,\n",
       "        1.64066210e+00, 2.83122060e-01, 2.00000000e+00],\n",
       "       [2.80000000e+01, 2.01940540e+02, 4.25061430e-02, 8.75379400e+00,\n",
       "        1.63337280e+00, 2.94297930e-01, 0.00000000e+00],\n",
       "       [2.70000000e+01, 2.00271600e+02, 5.02041060e-02, 8.80746700e+00,\n",
       "        1.63681040e+00, 3.01748500e-01, 0.00000000e+00],\n",
       "       [2.70000000e+01, 2.01940540e+02, 5.62286000e-02, 8.77486000e+00,\n",
       "        1.66623080e+00, 3.05473800e-01, 0.00000000e+00],\n",
       "       [2.70000000e+01, 2.01940540e+02, 5.62286000e-02, 8.67581300e+00,\n",
       "        1.69057830e+00, 3.09199100e-01, 0.00000000e+00],\n",
       "       [2.70000000e+01, 2.01940540e+02, 5.48898240e-02, 8.91592000e+00,\n",
       "        1.70580170e+00, 3.12924390e-01, 0.00000000e+00],\n",
       "       [2.70000000e+01, 2.00271600e+02, 5.28816580e-02, 9.22794500e+00,\n",
       "        1.73275350e+00, 3.20374970e-01, 0.00000000e+00],\n",
       "       [2.70000000e+01, 2.00271600e+02, 5.22122700e-02, 9.49179000e+00,\n",
       "        1.76538730e+00, 3.24100260e-01, 0.00000000e+00],\n",
       "       [2.70000000e+01, 2.00271600e+02, 5.22122700e-02, 9.90782800e+00,\n",
       "        1.82732740e+00, 3.27825550e-01, 0.00000000e+00],\n",
       "       [2.80000000e+01, 2.01940540e+02, 5.22122700e-02, 1.00958850e+01,\n",
       "        1.88841550e+00, 3.27825550e-01, 0.00000000e+00],\n",
       "       [2.90000000e+01, 2.03609470e+02, 5.28816580e-02, 9.87924400e+00,\n",
       "        1.89285990e+00, 3.20374970e-01, 2.00000000e+00],\n",
       "       [3.10000000e+01, 2.05278400e+02, 5.22122700e-02, 9.50333900e+00,\n",
       "        1.85956370e+00, 3.16649680e-01, 2.00000000e+00],\n",
       "       [3.10000000e+01, 2.06947330e+02, 5.22122700e-02, 9.00813800e+00,\n",
       "        1.82919630e+00, 3.12924390e-01, 2.00000000e+00],\n",
       "       [3.20000000e+01, 2.06947330e+02, 5.15428860e-02, 8.72976500e+00,\n",
       "        1.78794480e+00, 3.16649680e-01, 2.00000000e+00],\n",
       "       [3.20000000e+01, 2.05278400e+02, 5.08734960e-02, 8.91243300e+00,\n",
       "        1.79604760e+00, 3.16649680e-01, 2.00000000e+00],\n",
       "       [3.10000000e+01, 2.06947330e+02, 5.48898240e-02, 9.33768750e+00,\n",
       "        1.81068970e+00, 3.16649680e-01, 2.00000000e+00],\n",
       "       [3.10000000e+01, 2.06947330e+02, 6.09143150e-02, 9.35175400e+00,\n",
       "        1.82605550e+00, 3.20374970e-01, 2.00000000e+00],\n",
       "       [3.00000000e+01, 2.08616260e+02, 5.55592100e-02, 8.64011600e+00,\n",
       "        1.82261820e+00, 3.20374970e-01, 2.00000000e+00],\n",
       "       [3.00000000e+01, 2.06947330e+02, 4.61877800e-02, 7.75032900e+00,\n",
       "        1.81933580e+00, 3.24100260e-01, 2.00000000e+00],\n",
       "       [2.90000000e+01, 2.05278400e+02, 3.81551240e-02, 6.81552200e+00,\n",
       "        1.83141950e+00, 3.27825550e-01, 2.00000000e+00],\n",
       "       [2.70000000e+01, 2.03609470e+02, 3.07918530e-02, 6.96534730e+00,\n",
       "        1.92962360e+00, 3.39001420e-01, 2.00000000e+00],\n",
       "       [2.60000000e+01, 2.00271600e+02, 2.57714430e-02, 7.02217200e+00,\n",
       "        2.04950670e+00, 3.50177300e-01, 0.00000000e+00],\n",
       "       [2.50000000e+01, 2.00271600e+02, 2.34285840e-02, 6.94633250e+00,\n",
       "        2.15287140e+00, 3.57627870e-01, 0.00000000e+00],\n",
       "       [2.50000000e+01, 1.98602680e+02, 2.37632770e-02, 6.83429050e+00,\n",
       "        2.21934900e+00, 3.65078450e-01, 0.00000000e+00],\n",
       "       [2.40000000e+01, 1.96933750e+02, 2.67755240e-02, 6.68674560e+00,\n",
       "        2.24805000e+00, 3.72529030e-01, 0.00000000e+00],\n",
       "       [2.40000000e+01, 1.95264820e+02, 3.14612400e-02, 7.59356260e+00,\n",
       "        2.27678800e+00, 3.76254320e-01, 1.00000000e+00],\n",
       "       [2.50000000e+01, 1.95264820e+02, 3.81551240e-02, 8.99983800e+00,\n",
       "        2.33492400e+00, 3.76254320e-01, 1.00000000e+00],\n",
       "       [2.50000000e+01, 1.95264820e+02, 4.35102300e-02, 1.10221340e+01,\n",
       "        2.36502030e+00, 3.72529030e-01, 1.00000000e+00],\n",
       "       [2.50000000e+01, 1.96933750e+02, 4.35102300e-02, 1.21989740e+01,\n",
       "        2.36647600e+00, 3.72529030e-01, 0.00000000e+00],\n",
       "       [2.60000000e+01, 1.98602680e+02, 4.48490000e-02, 1.19695860e+01,\n",
       "        2.36968110e+00, 3.72529030e-01, 0.00000000e+00],\n",
       "       [2.60000000e+01, 1.98602680e+02, 4.61877800e-02, 9.59379400e+00,\n",
       "        2.33954550e+00, 3.79979600e-01, 0.00000000e+00],\n",
       "       [2.70000000e+01, 1.98602680e+02, 4.55183900e-02, 7.76361100e+00,\n",
       "        2.33150360e+00, 3.91155480e-01, 0.00000000e+00],\n",
       "       [2.70000000e+01, 1.98602680e+02, 4.41796150e-02, 7.51793600e+00,\n",
       "        2.32421700e+00, 3.98606060e-01, 0.00000000e+00],\n",
       "       [2.70000000e+01, 1.98602680e+02, 4.48490000e-02, 8.04143900e+00,\n",
       "        2.32027480e+00, 3.98606060e-01, 0.00000000e+00],\n",
       "       [2.70000000e+01, 2.00271600e+02, 4.61877800e-02, 8.65410800e+00,\n",
       "        2.28384470e+00, 3.87430200e-01, 0.00000000e+00],\n",
       "       [2.80000000e+01, 2.00271600e+02, 4.75265530e-02, 8.51470800e+00,\n",
       "        2.19554600e+00, 3.76254320e-01, 0.00000000e+00],\n",
       "       [2.80000000e+01, 2.00271600e+02, 4.68571670e-02, 7.92310800e+00,\n",
       "        2.06614880e+00, 3.65078450e-01, 0.00000000e+00],\n",
       "       [2.70000000e+01, 2.00271600e+02, 4.61877800e-02, 7.09717200e+00,\n",
       "        2.05917070e+00, 3.68803740e-01, 0.00000000e+00],\n",
       "       [2.70000000e+01, 1.98602680e+02, 4.55183900e-02, 6.81578000e+00,\n",
       "        2.07236300e+00, 3.76254320e-01, 0.00000000e+00],\n",
       "       [2.60000000e+01, 1.98602680e+02, 4.75265530e-02, 7.66158900e+00,\n",
       "        2.10242180e+00, 3.83704900e-01, 0.00000000e+00],\n",
       "       [2.50000000e+01, 1.98602680e+02, 4.55183900e-02, 8.71861400e+00,\n",
       "        2.23002050e+00, 4.02331350e-01, 0.00000000e+00],\n",
       "       [2.30000000e+01, 1.98602680e+02, 3.71510400e-02, 8.45727600e+00,\n",
       "        2.50103700e+00, 4.28408380e-01, 0.00000000e+00],\n",
       "       [2.20000000e+01, 1.96933750e+02, 2.74449120e-02, 7.18499140e+00,\n",
       "        2.75061320e+00, 4.43309550e-01, 1.00000000e+00],\n",
       "       [2.10000000e+01, 1.93595890e+02, 2.12530720e-02, 6.95017300e+00,\n",
       "        2.98442200e+00, 4.54485420e-01, 1.00000000e+00],\n",
       "       [2.00000000e+01, 1.93595890e+02, 1.75714380e-02, 7.20566800e+00,\n",
       "        3.06595000e+00, 4.54485420e-01, 1.00000000e+00],\n",
       "       [1.90000000e+01, 1.91926960e+02, 1.57306200e-02, 7.89848040e+00,\n",
       "        3.11856270e+00, 4.50760130e-01, 1.00000000e+00],\n",
       "       [1.90000000e+01, 1.91926960e+02, 1.55632740e-02, 8.74475800e+00,\n",
       "        3.09037800e+00, 4.39584260e-01, 1.00000000e+00],\n",
       "       [2.00000000e+01, 1.91926960e+02, 1.80734790e-02, 9.62343500e+00,\n",
       "        2.97633550e+00, 4.20957800e-01, 1.00000000e+00],\n",
       "       [2.10000000e+01, 1.91926960e+02, 2.20898070e-02, 1.02535390e+01,\n",
       "        2.84688640e+00, 4.09781930e-01, 1.00000000e+00],\n",
       "       [2.10000000e+01, 1.91926960e+02, 2.57714430e-02, 1.07033340e+01,\n",
       "        2.77188400e+00, 4.06056640e-01, 1.00000000e+00],\n",
       "       [2.10000000e+01, 1.91926960e+02, 3.04571580e-02, 1.06630570e+01,\n",
       "        2.73085120e+00, 3.98606060e-01, 1.00000000e+00],\n",
       "       [2.20000000e+01, 1.93595890e+02, 3.54775700e-02, 1.04231210e+01,\n",
       "        2.72047200e+00, 3.91155480e-01, 1.00000000e+00],\n",
       "       [2.40000000e+01, 1.95264820e+02, 3.91592050e-02, 1.12406610e+01,\n",
       "        2.71310880e+00, 3.83704900e-01, 1.00000000e+00],\n",
       "       [2.60000000e+01, 1.96933750e+02, 4.41796150e-02, 1.20981250e+01,\n",
       "        2.74304370e+00, 3.76254320e-01, 0.00000000e+00],\n",
       "       [2.70000000e+01, 1.98602680e+02, 4.68571670e-02, 1.28459770e+01,\n",
       "        2.78002170e+00, 3.72529030e-01, 0.00000000e+00],\n",
       "       [2.80000000e+01, 1.98602680e+02, 4.75265530e-02, 1.25836390e+01,\n",
       "        2.74587540e+00, 3.68803740e-01, 0.00000000e+00]])"
      ]
     },
     "execution_count": 6,
     "metadata": {},
     "output_type": "execute_result"
    }
   ],
   "source": [
    "data"
   ]
  },
  {
   "cell_type": "markdown",
   "metadata": {
    "id": "Hyp1gza1_6qX"
   },
   "source": [
    "## Importing the dataset for Dimensionality Reduction"
   ]
  },
  {
   "cell_type": "code",
   "execution_count": null,
   "metadata": {
    "id": "lPLTDBVI__ZQ"
   },
   "outputs": [],
   "source": [
    "dataset = pd.read_csv('data.csv', header = None)\n",
    "X_dr = dataset.iloc[:, :-1].values\n",
    "y_dr = dataset.iloc[:, -1].values"
   ]
  },
  {
   "cell_type": "markdown",
   "metadata": {
    "id": "3bUhSHktAcOe"
   },
   "source": [
    "## Splitting the dataset into the Training set and Test set"
   ]
  },
  {
   "cell_type": "code",
   "execution_count": null,
   "metadata": {
    "id": "L7hGLt1qAced"
   },
   "outputs": [],
   "source": [
    "from sklearn.model_selection import train_test_split\n",
    "X_train, X_test, y_train, y_test = train_test_split(X_dr, y_dr, test_size = 0.2, random_state = 0)"
   ]
  },
  {
   "cell_type": "markdown",
   "metadata": {
    "id": "1wrHODfJAEiI"
   },
   "source": [
    "## Feature Scaling"
   ]
  },
  {
   "cell_type": "code",
   "execution_count": null,
   "metadata": {
    "id": "W-UCD7ezAJG2"
   },
   "outputs": [],
   "source": [
    "from sklearn.preprocessing import StandardScaler\n",
    "sc = StandardScaler()\n",
    "X_train = sc.fit_transform(X_train)\n",
    "X_test = sc.transform(X_test)"
   ]
  },
  {
   "cell_type": "markdown",
   "metadata": {
    "id": "S3i3lRiwASAX"
   },
   "source": [
    "## Applying LDA"
   ]
  },
  {
   "cell_type": "code",
   "execution_count": null,
   "metadata": {
    "id": "TAi_sSw9AVzI"
   },
   "outputs": [],
   "source": [
    "from sklearn.discriminant_analysis import LinearDiscriminantAnalysis as LDA\n",
    "lda = LDA(n_components = 2)\n",
    "X_train = lda.fit_transform(X_train, y_train)\n",
    "X_test = lda.transform(X_test)"
   ]
  },
  {
   "cell_type": "markdown",
   "metadata": {
    "id": "UBx16JVLAuel"
   },
   "source": [
    "## Training the Logistic Regression model on the Training set"
   ]
  },
  {
   "cell_type": "code",
   "execution_count": null,
   "metadata": {
    "colab": {
     "base_uri": "https://localhost:8080/"
    },
    "id": "XDQahsqTAy44",
    "outputId": "220d733a-90fd-4c45-fcc6-1215c8b80322"
   },
   "outputs": [
    {
     "data": {
      "text/plain": [
       "LogisticRegression(random_state=0)"
      ]
     },
     "execution_count": 12,
     "metadata": {},
     "output_type": "execute_result"
    }
   ],
   "source": [
    "from sklearn.linear_model import LogisticRegression\n",
    "classifier = LogisticRegression(random_state = 0)\n",
    "classifier.fit(X_train, y_train)"
   ]
  },
  {
   "cell_type": "markdown",
   "metadata": {
    "id": "MTck416XBPnD"
   },
   "source": [
    "## Making the Confusion Matrix"
   ]
  },
  {
   "cell_type": "code",
   "execution_count": null,
   "metadata": {
    "colab": {
     "base_uri": "https://localhost:8080/"
    },
    "id": "2LO7H5LsBS1b",
    "outputId": "7be891fa-6535-4c09-c5c7-84a1e5c38e25"
   },
   "outputs": [
    {
     "name": "stdout",
     "output_type": "stream",
     "text": [
      "[[5 0 0]\n",
      " [0 2 0]\n",
      " [2 0 6]]\n"
     ]
    },
    {
     "data": {
      "text/plain": [
       "0.8666666666666667"
      ]
     },
     "execution_count": 13,
     "metadata": {},
     "output_type": "execute_result"
    }
   ],
   "source": [
    "from sklearn.metrics import confusion_matrix, accuracy_score\n",
    "y_pred = classifier.predict(X_test)\n",
    "cm = confusion_matrix(y_test, y_pred)\n",
    "print(cm)\n",
    "accuracy_score(y_test, y_pred)"
   ]
  },
  {
   "cell_type": "markdown",
   "metadata": {
    "id": "h6pZMBrUBXwb"
   },
   "source": [
    "## Visualising the Training set results"
   ]
  },
  {
   "cell_type": "code",
   "execution_count": null,
   "metadata": {
    "colab": {
     "base_uri": "https://localhost:8080/",
     "height": 367
    },
    "id": "FK_LpLOeBdQ4",
    "outputId": "06673988-cf6b-4fe5-e3ee-8cc47e40d413"
   },
   "outputs": [
    {
     "name": "stderr",
     "output_type": "stream",
     "text": [
      "WARNING:matplotlib.axes._axes:*c* argument looks like a single numeric RGB or RGBA sequence, which should be avoided as value-mapping will have precedence in case its length matches with *x* & *y*.  Please use the *color* keyword-argument or provide a 2-D array with a single row if you intend to specify the same RGB or RGBA value for all points.\n",
      "WARNING:matplotlib.axes._axes:*c* argument looks like a single numeric RGB or RGBA sequence, which should be avoided as value-mapping will have precedence in case its length matches with *x* & *y*.  Please use the *color* keyword-argument or provide a 2-D array with a single row if you intend to specify the same RGB or RGBA value for all points.\n",
      "WARNING:matplotlib.axes._axes:*c* argument looks like a single numeric RGB or RGBA sequence, which should be avoided as value-mapping will have precedence in case its length matches with *x* & *y*.  Please use the *color* keyword-argument or provide a 2-D array with a single row if you intend to specify the same RGB or RGBA value for all points.\n"
     ]
    },
    {
     "data": {
      "image/png": "[encoded data removed]",
      "text/plain": [
       "<Figure size 432x288 with 1 Axes>"
      ]
     },
     "metadata": {
      "needs_background": "light"
     },
     "output_type": "display_data"
    }
   ],
   "source": [
    "from matplotlib.colors import ListedColormap\n",
    "X_set, y_set = X_train, y_train\n",
    "X1, X2 = np.meshgrid(np.arange(start = X_set[:, 0].min() - 1, stop = X_set[:, 0].max() + 1, step = 0.01),\n",
    "                     np.arange(start = X_set[:, 1].min() - 1, stop = X_set[:, 1].max() + 1, step = 0.01))\n",
    "plt.contourf(X1, X2, classifier.predict(np.array([X1.ravel(), X2.ravel()]).T).reshape(X1.shape),\n",
    "             alpha = 0.75, cmap = ListedColormap(('red', 'green', 'blue')))\n",
    "plt.xlim(X1.min(), X1.max())\n",
    "plt.ylim(X2.min(), X2.max())\n",
    "for i, j in enumerate(np.unique(y_set)):\n",
    "    plt.scatter(X_set[y_set == j, 0], X_set[y_set == j, 1],\n",
    "                c = ListedColormap(('red', 'green', 'blue'))(i), label = j)\n",
    "plt.title('Logistic Regression (Training set)')\n",
    "plt.xlabel('LD1')\n",
    "plt.ylabel('LD2')\n",
    "plt.legend()\n",
    "plt.show()"
   ]
  },
  {
   "cell_type": "markdown",
   "metadata": {
    "id": "-Dbzx_KqBguX"
   },
   "source": [
    "## Visualising the Test set results"
   ]
  },
  {
   "cell_type": "code",
   "execution_count": null,
   "metadata": {
    "colab": {
     "base_uri": "https://localhost:8080/",
     "height": 367
    },
    "id": "kk07XbUHBl0W",
    "outputId": "ebb19f09-67ca-47bd-88b8-98be1a2a5380"
   },
   "outputs": [
    {
     "name": "stderr",
     "output_type": "stream",
     "text": [
      "WARNING:matplotlib.axes._axes:*c* argument looks like a single numeric RGB or RGBA sequence, which should be avoided as value-mapping will have precedence in case its length matches with *x* & *y*.  Please use the *color* keyword-argument or provide a 2-D array with a single row if you intend to specify the same RGB or RGBA value for all points.\n",
      "WARNING:matplotlib.axes._axes:*c* argument looks like a single numeric RGB or RGBA sequence, which should be avoided as value-mapping will have precedence in case its length matches with *x* & *y*.  Please use the *color* keyword-argument or provide a 2-D array with a single row if you intend to specify the same RGB or RGBA value for all points.\n",
      "WARNING:matplotlib.axes._axes:*c* argument looks like a single numeric RGB or RGBA sequence, which should be avoided as value-mapping will have precedence in case its length matches with *x* & *y*.  Please use the *color* keyword-argument or provide a 2-D array with a single row if you intend to specify the same RGB or RGBA value for all points.\n"
     ]
    },
    {
     "data": {
      "image/png": "[encoded data removed]",
      "text/plain": [
       "<Figure size 432x288 with 1 Axes>"
      ]
     },
     "metadata": {
      "needs_background": "light"
     },
     "output_type": "display_data"
    }
   ],
   "source": [
    "from matplotlib.colors import ListedColormap\n",
    "X_set, y_set = X_test, y_test\n",
    "X1, X2 = np.meshgrid(np.arange(start = X_set[:, 0].min() - 1, stop = X_set[:, 0].max() + 1, step = 0.01),\n",
    "                     np.arange(start = X_set[:, 1].min() - 1, stop = X_set[:, 1].max() + 1, step = 0.01))\n",
    "plt.contourf(X1, X2, classifier.predict(np.array([X1.ravel(), X2.ravel()]).T).reshape(X1.shape),\n",
    "             alpha = 0.75, cmap = ListedColormap(('red', 'green', 'blue')))\n",
    "plt.xlim(X1.min(), X1.max())\n",
    "plt.ylim(X2.min(), X2.max())\n",
    "for i, j in enumerate(np.unique(y_set)):\n",
    "    plt.scatter(X_set[y_set == j, 0], X_set[y_set == j, 1],\n",
    "                c = ListedColormap(('red', 'green', 'blue'))(i), label = j)\n",
    "plt.title('Logistic Regression (Test set)')\n",
    "plt.xlabel('LD1')\n",
    "plt.ylabel('LD2')\n",
    "plt.legend()\n",
    "plt.show()"
   ]
  }
 ],
 "metadata": {
  "colab": {
   "provenance": []
  },
  "kernelspec": {
   "display_name": "Python 3 (ipykernel)",
   "language": "python",
   "name": "python3"
  },
  "language_info": {
   "codemirror_mode": {
    "name": "ipython",
    "version": 3
   },
   "file_extension": ".py",
   "mimetype": "text/x-python",
   "name": "python",
   "nbconvert_exporter": "python",
   "pygments_lexer": "ipython3",
   "version": "3.9.12"
  }
 },
 "nbformat": 4,
 "nbformat_minor": 1
}
